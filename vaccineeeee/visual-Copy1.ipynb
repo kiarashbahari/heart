{
 "cells": [
  {
   "cell_type": "code",
   "execution_count": null,
   "id": "9a6fa1b9-6afb-4158-a062-f9514ed2da43",
   "metadata": {},
   "outputs": [],
   "source": [
    "library(tidyverse)\n",
    "library(repr)\n",
    "library(tidymodels)\n",
    "options(repr.matrix.max.rows = 6)\n",
    "#library(ggplot2)\n",
    "library(cowplot)"
   ]
  },
  {
   "cell_type": "markdown",
   "id": "944e73ee-1504-4903-93e4-a1e9d7d84c3d",
   "metadata": {},
   "source": [
    "## Doses administered: Reports from provinces and territories\n",
    "\n",
    "Information on doses administered by dose number and vaccine product is provided by provinces and territories every 4 weeks.\n",
    "\n",
    "In the last 4 weeks, the majority of doses administered were dose 4 or more.\n",
    "\n",
    "Data may not be available for some report weeks because:\n",
    "- data was not submitted for that week (see data availability)\n",
    "- data quality assurance resulted in negative values\n",
    "- Data on doses administered should not be used as a substitute for vaccination coverage estimates.\n",
    "- National data by dose number is incomplete as:\n",
    "- data on dose 5+ were not available for Nunavut\n",
    "- data by dose number were not available for Quebec prior to March 13, 2022, and so appears as \"Not reported\"\n",
    "- national data excluded doses administered by federal organizations\n",
    "- Information is subject to change. Numbers may differ in provincial and territorial reports due to the timing of updates and the suppression of values less than 5 for 7 provinces and territories (see limitations).\n",
    "- Where possible, the number of doses administered includes all doses administered by a province or territory, regardless of where the person receiving the vaccine lives. However, the number of vaccine doses administered may be overestimated due to - -  provincial and territorial partners including doses administered to their residents by other provinces and territories.\n",
    "- Use caution when comparing data over time. Reporting delays can result in artificial increases in counts while ongoing data quality assurance activities can result in unexpected decreases."
   ]
  },
  {
   "cell_type": "code",
   "execution_count": null,
   "id": "8cfa613b-2fc3-46aa-bcc6-d3d372114f06",
   "metadata": {},
   "outputs": [],
   "source": [
    "data <- read_csv(\"abc/chr.csv\")\n",
    "data<-data|>\n",
    "rename(numtotal_dose5_admin= 'numtotal_dose5+_admin')\n",
    "\n",
    "head(data)"
   ]
  },
  {
   "cell_type": "markdown",
   "id": "8847fea2-5d8e-4966-b7df-77a91a0da874",
   "metadata": {},
   "source": [
    "## The original cleaned data"
   ]
  },
  {
   "cell_type": "code",
   "execution_count": null,
   "id": "295966c9-81e8-423a-aca0-64974ed1d12e",
   "metadata": {},
   "outputs": [],
   "source": [
    "data_canada<- data|>\n",
    "filter(prename==\"Canada\")\n",
    "\n",
    "data2<-data_canada |>\n",
    "select(- prename, - prfname, - pruid, - product_name)|>\n",
    "    select(week_end:numtotal_dose5_admin)\n",
    "head(data2)"
   ]
  },
  {
   "cell_type": "markdown",
   "id": "b81d9c10-07e8-4435-ad3f-8ace8fdb6736",
   "metadata": {},
   "source": [
    "Normilized to days data "
   ]
  },
  {
   "cell_type": "code",
   "execution_count": null,
   "id": "2d95ac7b-1177-4f29-94bd-519af73f1032",
   "metadata": {},
   "outputs": [],
   "source": [
    "newdata<- data2|>\n",
    "    mutate(days=as.numeric(week_end)-18615)|>\n",
    "    select(-week_end)"
   ]
  },
  {
   "cell_type": "code",
   "execution_count": null,
   "id": "12b46683-216e-4eb9-880b-02d05d132b52",
   "metadata": {},
   "outputs": [],
   "source": [
    "newnewdata <- newdata|>\n",
    "#mutate(days=days)|>\n",
    "mutate(total=as.vector(numtotal_totaldoses_admin))|>\n",
    "mutate(dose1=as.vector(numtotal_dose1_admin))|>\n",
    "mutate(dose2=as.vector(numtotal_dose2_admin))|>\n",
    "mutate(dose3=as.vector(numtotal_dose3_admin))|>\n",
    "mutate(dose4=as.vector(numtotal_dose4_admin))|>\n",
    "mutate(dose5=as.vector(numtotal_dose5_admin))|>\n",
    "select(-numtotal_totaldoses_admin,-numtotal_dose5_admin,-numtotal_dose4_admin,-numtotal_dose3_admin,-numtotal_dose2_admin,-numtotal_dose1_admin)\n",
    "head(newnewdata)"
   ]
  },
  {
   "cell_type": "markdown",
   "id": "babd3ff4-3482-424c-895e-fb275e13c332",
   "metadata": {},
   "source": [
    "Using `newnewdata` to compelete the analysis "
   ]
  },
  {
   "cell_type": "code",
   "execution_count": null,
   "id": "458163c4-8ee5-4818-bc12-251a164d6462",
   "metadata": {},
   "outputs": [],
   "source": [
    "na_row_total<- nrow(newnewdata[is.na(newnewdata$total),])\n",
    "na_row_total\n",
    "na_row_1<- nrow(newnewdata[is.na(newnewdata$dose1),])\n",
    "na_row_1\n",
    "na_row_2<- nrow(newnewdata[is.na(newnewdata$dose2),])\n",
    "na_row_2\n",
    "na_row_3<- nrow(newnewdata[is.na(newnewdata$dose3),])\n",
    "na_row_3\n",
    "na_row_4<- nrow(newnewdata[is.na(newnewdata$dose4),])\n",
    "na_row_4\n",
    "na_row_5<- nrow(newnewdata[is.na(newnewdata$dose5),])\n",
    "na_row_5"
   ]
  },
  {
   "cell_type": "code",
   "execution_count": null,
   "id": "28cb87d7-3b23-4e63-846b-268e0a74b246",
   "metadata": {},
   "outputs": [],
   "source": [
    "ggplot(newnewdata, aes(x=days,y=dose3))\n",
    "\n",
    "sa1<- nls(dose3~c*days^z, data=newnewdata, start=c(c=1750000, z=0.27))\n",
    "sa1\n",
    "\n",
    "ggplot(newnewdata, aes(x=days,y=dose3))\n",
    "\n",
    "#sa2<-lm(log(dose3)~log(days), data=newnewdata)\n",
    "#sa2"
   ]
  },
  {
   "cell_type": "markdown",
   "id": "7c87143b-14a7-44b0-91d1-8ba34cfe89b4",
   "metadata": {},
   "source": [
    "## dose 1"
   ]
  },
  {
   "cell_type": "code",
   "execution_count": null,
   "id": "5b0631da-37b4-4043-8cbe-fcdeef0df492",
   "metadata": {},
   "outputs": [],
   "source": [
    "options(repr.plot.width = 12, repr.plot.height = 7)\n",
    "\n",
    "x<-newnewdata$days\n",
    "y<-newnewdata$dose1\n",
    "\n",
    "bbb <- nls(y ~ height/(1 + exp((xmid - x)/scal)),\n",
    "                           start = list(xmid = 100, scal = 10, height = 5000000))\n",
    "#bbb\n",
    "aaa<- coef(bbb)\n",
    "earlyx<-c(0:100)\n",
    "ypred<-aaa[3]/(1 + exp((aaa[1] - earlyx)/aaa[2]))\n",
    "\n",
    "plot<- plot(ypred~earlyx)+\n",
    "lines(x,predict(bbb))\n",
    "plot"
   ]
  },
  {
   "cell_type": "markdown",
   "id": "59b1f54a-825d-47de-b459-5467a7a285cd",
   "metadata": {},
   "source": [
    "## dose 2"
   ]
  },
  {
   "cell_type": "code",
   "execution_count": null,
   "id": "f95d22ca-5f2d-4e01-a590-9b3b084ce9dc",
   "metadata": {},
   "outputs": [],
   "source": [
    "x<-newnewdata$days\n",
    "y<-newnewdata$dose2\n",
    "\n",
    "options(repr.plot.width = 12, repr.plot.height = 7)\n",
    "bbb<-nls(y ~ height/(1 + exp((xmid - x)/scal)),\n",
    "                           start = list(xmid = 100, scal = 10, height = 5000000))\n",
    "#bbb\n",
    "aaa<- coef(bbb)\n",
    "earlyx<-c(0:350)\n",
    "ypred<-aaa[3]/(1 + exp((coef(bbb)[1] - earlyx)/coef(bbb)[2]))\n",
    "#ypred\n",
    "plot(ypred~earlyx)\n",
    "lines(x,predict(bbb))\n",
    "#predict(bbb)"
   ]
  },
  {
   "cell_type": "markdown",
   "id": "085c0380-2e04-404d-84b6-15c3f559c470",
   "metadata": {},
   "source": [
    "## dose 3"
   ]
  },
  {
   "cell_type": "code",
   "execution_count": null,
   "id": "e3e9f447-1566-4068-8fdb-a3866d3b2202",
   "metadata": {},
   "outputs": [],
   "source": [
    "newnewdata3<-newnewdata|>filter(!is.na(dose3))"
   ]
  },
  {
   "cell_type": "code",
   "execution_count": null,
   "id": "e747e819-12ae-4973-9690-9a117970405c",
   "metadata": {},
   "outputs": [],
   "source": [
    "ggplot(newnewdata3, aes(days,dose3))+\n",
    "geom_point(aes(color=age))"
   ]
  },
  {
   "cell_type": "code",
   "execution_count": null,
   "id": "c37be8c1-e007-43b5-9cc0-5aae8b0b3d08",
   "metadata": {},
   "outputs": [],
   "source": [
    "x<-newnewdata3$days\n",
    "y<-newnewdata3$dose3\n",
    "\n",
    "options(repr.plot.width = 12, repr.plot.height = 7)\n",
    "bbb<-nls(y ~ height/(1 + exp((xmid - x)/scal)),\n",
    "                           start = list(xmid = 400, scal = 10, height = 5000000))\n",
    "#bbb\n",
    "aaa<- coef(bbb)\n",
    "earlyx<-c(0:600)\n",
    "ypred<-aaa[3]/(1 + exp((coef(bbb)[1] - earlyx)/coef(bbb)[2]))\n",
    "#ypred\n",
    "plot(ypred~earlyx)\n",
    "lines(x,predict(bbb))"
   ]
  },
  {
   "cell_type": "markdown",
   "id": "fb198e46-3a4e-4bc3-88db-b9787e4c1f79",
   "metadata": {},
   "source": [
    "## dose 4"
   ]
  },
  {
   "cell_type": "code",
   "execution_count": null,
   "id": "3c846bf5-2f14-4821-82ba-aa7f8017b518",
   "metadata": {},
   "outputs": [],
   "source": [
    "newnewdata4<-newnewdata|>filter(!is.na(dose4))\n",
    "newnewdata4"
   ]
  },
  {
   "cell_type": "code",
   "execution_count": null,
   "id": "f366f6ec-0549-44fc-ad78-a9c9a7ee2294",
   "metadata": {},
   "outputs": [],
   "source": [
    "x<-newnewdata4$days\n",
    "y<-newnewdata4$dose4 \n",
    "\n",
    "\n",
    "options(repr.plot.width = 12, repr.plot.height = 7)\n",
    "bbb<-nls(y ~ height/(1 + exp((xmid - x)/scal)),\n",
    "                           start = list(xmid = 600, scal = 10, height = 5000000))\n",
    "#bbb\n",
    "aaa<- coef(bbb)\n",
    "earlyx<-c(0:900)\n",
    "ypred<-aaa[3]/(1 + exp((coef(bbb)[1] - earlyx)/coef(bbb)[2]))\n",
    "#ypred\n",
    "plot(ypred~earlyx)\n",
    "lines(x,predict(bbb))"
   ]
  },
  {
   "cell_type": "markdown",
   "id": "2d8786ab-082f-48db-a9da-6fbd8ffc8f14",
   "metadata": {},
   "source": [
    "## dose 5"
   ]
  },
  {
   "cell_type": "code",
   "execution_count": null,
   "id": "7afef689-5edc-4c7d-ae97-404de2248402",
   "metadata": {},
   "outputs": [],
   "source": [
    "newnewdata5<-newnewdata|>filter(!is.na(dose5))\n",
    "print(newnewdata5)\n",
    "ggplot(newnewdata5, aes(x=days,y=dose5))+\n",
    "geom_point(aes(color=age))"
   ]
  },
  {
   "cell_type": "code",
   "execution_count": null,
   "id": "1c0548f3-b8dd-491d-9413-1961f1ec8f70",
   "metadata": {},
   "outputs": [],
   "source": [
    "x<-newnewdata5$days\n",
    "y<-newnewdata5$dose5\n",
    "plot(y~x)\n",
    "options(repr.plot.width = 12, repr.plot.height = 7)\n",
    "bbb<-nls(y ~ height/(1 + exp((xmid - x)/scal)), \n",
    "                           start = list(xmid = 640, scal = 10, height = 5000000))\n",
    "#bbb\n",
    "aaa<- coef(bbb)\n",
    "earlyx<-c(0:700)\n",
    "ypred<-aaa[3]/(1 + exp((coef(bbb)[1] - earlyx)/coef(bbb)[2]))\n",
    "#ypred\n",
    "plot(ypred~earlyx)\n",
    "lines(x,predict(bbb))"
   ]
  },
  {
   "cell_type": "code",
   "execution_count": null,
   "id": "d168217e-5d18-414f-bc11-051fbbbae80a",
   "metadata": {},
   "outputs": [],
   "source": [
    "x<-newnewdata$days\n",
    "y<-newnewdata$numtotal_atleast1dose\n",
    "\n",
    "options(repr.plot.width = 12, repr.plot.height = 7)\n",
    "bbb<-nls(y ~ height/(1 + exp((xmid - x)/scal)), \n",
    "                           start = list(xmid = 100, scal = 10, height = 5000000))\n",
    "#bbb\n",
    "aaa<- coef(bbb)\n",
    "earlyx<-c(-100:600)\n",
    "ypred<-aaa[3]/(1 + exp((coef(bbb)[1] - earlyx)/coef(bbb)[2]))\n",
    "#ypred\n",
    "plot(ypred~earlyx)\n",
    "lines(x,predict(bbb))"
   ]
  },
  {
   "cell_type": "code",
   "execution_count": null,
   "id": "f50ba016-b407-400a-822e-a17f073c28ab",
   "metadata": {},
   "outputs": [],
   "source": [
    "based on age \n",
    "be careful of tne data "
   ]
  },
  {
   "cell_type": "code",
   "execution_count": null,
   "id": "21489675-f5b3-484d-ac7f-2475fffaf331",
   "metadata": {},
   "outputs": [],
   "source": [
    "bbb <- newnewdata|> nls(numtotal_atleast1dose ~ days/(1 + exp((xmid - days)/scal)), \n",
    "                            start = list(xmid = 0, scal = 1, height = 100000))\n",
    "bbb\n"
   ]
  },
  {
   "cell_type": "code",
   "execution_count": null,
   "id": "e1cae056-f433-4a9e-ae0c-4ec0b0d3d5da",
   "metadata": {},
   "outputs": [],
   "source": [
    "nls(numtotal_atleast1dose ~ days, data=newnewdata)"
   ]
  },
  {
   "cell_type": "code",
   "execution_count": null,
   "id": "833cc6f6-5dc3-4327-9b82-3aab0a75c332",
   "metadata": {},
   "outputs": [],
   "source": [
    "options(repr.plot.width = 12, repr.plot.height = 7)\n",
    "ggplot(newnewdata, aes(x=days,y=numtotal_atleast1dose,color=age))+\n",
    "geom_point()+\n",
    "ggtitle(\"at least 1 dose\")\n",
    "ggplot(newnewdata, aes(x=days,y=dose1,color=age))+\n",
    "geom_point()+\n",
    "ggtitle(\"dose 1\")\n",
    "ggplot(newnewdata, aes(x=days,y=dose2,color=age))+\n",
    "geom_point()+\n",
    "ggtitle(\"dose 2\")\n",
    "ggplot(newnewdata, aes(x=days,y=dose3,color=age))+\n",
    "geom_point()+\n",
    "ggtitle(\"dose 3\")\n",
    "ggplot(newnewdata, aes(x=days,y=dose4,color=age))+\n",
    "geom_point()+\n",
    "ggtitle(\"dose 4\")\n",
    "ggplot(newnewdata, aes(x=days,y=dose5,color=age))+\n",
    "geom_point()+\n",
    "ggtitle(\"dose 5\")\n",
    "\n",
    "#glm\n",
    "#nls "
   ]
  },
  {
   "cell_type": "code",
   "execution_count": null,
   "id": "879263e7-33b4-44ce-899f-dbb89221b377",
   "metadata": {},
   "outputs": [],
   "source": [
    "nls(formula, data, start, control, algorithm,\n",
    "    trace, subset, weights, na.action, model,\n",
    "    lower, upper, ...)\n",
    "newnewdata"
   ]
  },
  {
   "cell_type": "code",
   "execution_count": null,
   "id": "550d70c2-3cac-40e7-a8cc-f65bb2a5434b",
   "metadata": {},
   "outputs": [],
   "source": [
    "#?nls\n",
    "#pivot longer to make it tibble \n",
    "#newnewdata\n",
    "#?glm"
   ]
  },
  {
   "cell_type": "code",
   "execution_count": null,
   "id": "0b25408b-e81b-4faa-8ffa-7402816673d6",
   "metadata": {},
   "outputs": [],
   "source": [
    "x<-newnewdata$days\n",
    "y<-newnewdata$numtotal_atleast1dose\n",
    "\n",
    "bbb<-nls(y ~ height/(1 + exp((xmid - x)/scal)), \n",
    "                           start = list(xmid = 100, scal = 10, height = 5000000))\n",
    "bbb"
   ]
  },
  {
   "cell_type": "code",
   "execution_count": null,
   "id": "c6617a43-0c9e-4061-86d1-3472843b27bc",
   "metadata": {},
   "outputs": [],
   "source": [
    "coef(bbb)\n",
    "earlyx<-c(0:100)\n",
    "ypred<-coef(bbb)[3]/(1 + exp((coef(bbb)[1] - earlyx)/coef(bbb)[2]))\n",
    "ypred\n",
    "plot(ypred~earlyx)\n",
    "lines(x,predict(bbb))"
   ]
  },
  {
   "cell_type": "code",
   "execution_count": null,
   "id": "e02222d0-59f0-4823-9bb7-8c4abdebb1e5",
   "metadata": {},
   "outputs": [],
   "source": [
    "options(repr.plot.width = 20, repr.plot.height = 10)\n",
    "\n",
    "firstage3<-newnewdata|>\n",
    "#    mutate(age=as.factor(age))|>\n",
    "    filter(age==\"0–15\")\n",
    "\n",
    "graph3 <- ggplot(firstage3, aes(x=days, y=numtotal_atleast1dose))+\n",
    "    geom_point(alpha=0.6)+\n",
    "geom_line()+\n",
    "    xlab(\"Date\") +\n",
    "    ylab(\"Number of New Vaccinations\") +\n",
    "    theme(text = element_text(size = 12))        \n",
    "\n",
    "graph3"
   ]
  },
  {
   "cell_type": "code",
   "execution_count": null,
   "id": "7a128527-87b5-413f-b802-511da5c75f5f",
   "metadata": {},
   "outputs": [],
   "source": [
    "firstage4<-newnewdata|>\n",
    "#    mutate(age=as.factor(age))|>\n",
    "    filter(age==\"16–69\")\n",
    "\n",
    "graph4 <- ggplot(firstage4, aes(x=days, y=numtotal_atleast1dose))+\n",
    "    geom_point(alpha=0.6)+\n",
    "geom_line()+\n",
    "    xlab(\"Date\") +\n",
    "    ylab(\"Number of New Vaccinations\") +\n",
    "    theme(text = element_text(size = 12))        \n",
    "\n",
    "graph4"
   ]
  },
  {
   "cell_type": "code",
   "execution_count": null,
   "id": "c3fb5b4f-025a-447f-9e75-10d252f60035",
   "metadata": {},
   "outputs": [],
   "source": [
    "options(repr.plot.width = 10, repr.plot.height = 37)\n",
    "\n",
    "#selected.1<- selected|>\n",
    "# filter(age %in% c(\"0-4\", \"05-11\", \"12-17\", \"18-29\", '30-39', '40-49', '50.59','60-69','70-79','80+'))\n",
    "\n",
    "#selected.1<- selected|>\n",
    "# filter(age %in% c(\"0-15\", '0-17', '16-69', '18-69','70-74','75-79','80+'))\n",
    "\n",
    "#selected.1\n",
    "\n",
    "graph1.1 <- ggplot(newnewdata, aes(x=days, y=numtotal_atleast1dose, color=age))+\n",
    "    geom_point(alpha=0.6)+\n",
    "    geom_line()+\n",
    "    facet_grid(rows = vars(age))+\n",
    "    xlab(\"Date\") +\n",
    "    ylab(\"Number of New Vaccinations\") +\n",
    "    labs(color=\"Age Cathegory\")+\n",
    "    theme(text = element_text(size = 12))        \n",
    "\n",
    "graph1.1"
   ]
  },
  {
   "cell_type": "code",
   "execution_count": null,
   "id": "e6285097-f39f-416b-93cf-29fb2e662825",
   "metadata": {},
   "outputs": [],
   "source": []
  }
 ],
 "metadata": {
  "kernelspec": {
   "display_name": "R",
   "language": "R",
   "name": "ir"
  },
  "language_info": {
   "codemirror_mode": "r",
   "file_extension": ".r",
   "mimetype": "text/x-r-source",
   "name": "R",
   "pygments_lexer": "r",
   "version": "4.1.3"
  }
 },
 "nbformat": 4,
 "nbformat_minor": 5
}
