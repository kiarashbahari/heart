{
 "cells": [
  {
   "cell_type": "code",
   "execution_count": null,
   "id": "f9e81314-99e5-455f-9742-b719a993fe19",
   "metadata": {},
   "outputs": [],
   "source": [
    "library(tidyverse)"
   ]
  },
  {
   "cell_type": "code",
   "execution_count": null,
   "id": "6f1d1a99-3d19-498c-a360-751bf7f4b600",
   "metadata": {},
   "outputs": [],
   "source": [
    "ui <- fluidPage(pageWithSidebar( \n",
    "  \n",
    "  headerPanel = headerPanel(\"BIOL336: Haploid model of selection\"),\n",
    "  \n",
    "  sidebarPanel(\n",
    "    \n",
    "    HTML(\"<p style='font-size:14px'><B>Frequency of allele A over time (p).</B>\"),\n",
    "\n",
    "    sliderInput(inputId = \"wA\", label = \"wA\", value = 1.1, \n",
    "                min = 0, max = 2, step = 0.01),\n",
    "    sliderInput(inputId = \"wa\", label = \"wa\", value = 1, \n",
    "                min = 0, max = 2, step = 0.01),\n",
    "    \n",
    "    sliderInput(inputId = \"p_0\", label = \"Initial p\", value = 0.1, \n",
    "                min = 0, max = 1, step = 0.01),\n",
    "    \n",
    "    sliderInput(inputId = \"gen\", label = \"Number of generations\", value = 100, \n",
    "                min = 5, max = 1000, step = 5),\n",
    "  \n",
    "    HTML(\"<p style='font-size:12px'>Alternatively, <A href='https://shiney.zoology.ubc.ca/otto/HaploidSelectionInput'>click here</a> if you would like to input numbers directly.<P>\"), \n",
    "\n",
    "    HTML(\"<p style='font-size:12px'>Take me to:\n",
    "         <UL><LI style='font-size:12px'><A href='https://shiney.zoology.ubc.ca/otto/HaploidSelection/'>Haploid selection</a> (<A href='https://shiney.zoology.ubc.ca/otto/HaploidMutationSelection/'>with mutation</a>)\n",
    "         <LI style='font-size:12px'><A href='https://shiney.zoology.ubc.ca/otto/DiploidSelection/'>Diploid selection</a> (<A href='https://shiney.zoology.ubc.ca/otto/DiploidMutationSelection/'>with mutation</a>)\n",
    "         <LI style='font-size:12px'><A href='https://shiney.zoology.ubc.ca/otto/DiploidDriftSelection/'>Diploid selection with drift</a>\n",
    "         </UL><P>\"),\n",
    "    HTML(\"<p style='font-size:8px'>Download R <A href='https://www.zoology.ubc.ca/~otto/Research/ShineyAppsForPopGen.zip'>source code</a>.<BR>\n",
    "          Modified from: Copyright (c) 2017 Silas Tittes, MIT License, <A href='https://github.com/silastittes/shiny_popgen'>https://github.com/silastittes/shiny_popgen</a></p>\")\n",
    "    \n",
    "  ), \n",
    "  \n",
    "  mainPanel =  mainPanel(\n",
    "    plotOutput(outputId = 'viz'),\n",
    "    \n",
    "    selectInput(\"select\", label = \"Plot options\", \n",
    "                choices = list(\"Mean fitness by p\" = 1, \"Change in p by p\" = 2,\n",
    "                               \"Allele frequency over time\" = 3, \"Genotypes over time\" = 4, \"Mean fitness over time\" = 5), selected = 3)\n",
    "    \n",
    "    \n",
    "  )\n",
    "))\n",
    "\n"
   ]
  },
  {
   "cell_type": "code",
   "execution_count": null,
   "id": "056cbc45-da66-4f38-a4b1-fe88ddb63daf",
   "metadata": {},
   "outputs": [],
   "source": []
  }
 ],
 "metadata": {
  "kernelspec": {
   "display_name": "R",
   "language": "R",
   "name": "ir"
  },
  "language_info": {
   "name": ""
  }
 },
 "nbformat": 4,
 "nbformat_minor": 5
}
