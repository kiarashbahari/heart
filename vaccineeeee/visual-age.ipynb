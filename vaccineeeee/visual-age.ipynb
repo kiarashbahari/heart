{
 "cells": [
  {
   "cell_type": "markdown",
   "id": "7a284a0b-b252-4aab-84fc-ffc9c56410b3",
   "metadata": {},
   "source": [
    "# visual for each age by age group dataset"
   ]
  },
  {
   "cell_type": "code",
   "execution_count": 1,
   "id": "9a6fa1b9-6afb-4158-a062-f9514ed2da43",
   "metadata": {},
   "outputs": [
    {
     "name": "stderr",
     "output_type": "stream",
     "text": [
      "Warning message in system(\"timedatectl\", intern = TRUE):\n",
      "“running command 'timedatectl' had status 1”\n",
      "── \u001b[1mAttaching packages\u001b[22m ─────────────────────────────────────── tidyverse 1.3.2 ──\n",
      "\u001b[32m✔\u001b[39m \u001b[34mggplot2\u001b[39m 3.4.0      \u001b[32m✔\u001b[39m \u001b[34mpurrr  \u001b[39m 1.0.0 \n",
      "\u001b[32m✔\u001b[39m \u001b[34mtibble \u001b[39m 3.1.8      \u001b[32m✔\u001b[39m \u001b[34mdplyr  \u001b[39m 1.0.10\n",
      "\u001b[32m✔\u001b[39m \u001b[34mtidyr  \u001b[39m 1.2.1      \u001b[32m✔\u001b[39m \u001b[34mstringr\u001b[39m 1.5.0 \n",
      "\u001b[32m✔\u001b[39m \u001b[34mreadr  \u001b[39m 2.1.3      \u001b[32m✔\u001b[39m \u001b[34mforcats\u001b[39m 0.5.2 \n",
      "── \u001b[1mConflicts\u001b[22m ────────────────────────────────────────── tidyverse_conflicts() ──\n",
      "\u001b[31m✖\u001b[39m \u001b[34mdplyr\u001b[39m::\u001b[32mfilter()\u001b[39m masks \u001b[34mstats\u001b[39m::filter()\n",
      "\u001b[31m✖\u001b[39m \u001b[34mdplyr\u001b[39m::\u001b[32mlag()\u001b[39m    masks \u001b[34mstats\u001b[39m::lag()\n"
     ]
    }
   ],
   "source": [
    "library(tidyverse)\n",
    "library(repr)\n",
    "#library(tidymodels)\n",
    "options(repr.matrix.max.rows = 6)\n",
    "#library(ggplot2)\n",
    "library(cowplot)"
   ]
  },
  {
   "cell_type": "code",
   "execution_count": 2,
   "id": "8cfa613b-2fc3-46aa-bcc6-d3d372114f06",
   "metadata": {},
   "outputs": [
    {
     "name": "stderr",
     "output_type": "stream",
     "text": [
      "\u001b[1mRows: \u001b[22m\u001b[34m74676\u001b[39m \u001b[1mColumns: \u001b[22m\u001b[34m18\u001b[39m\n",
      "\u001b[36m──\u001b[39m \u001b[1mColumn specification\u001b[22m \u001b[36m────────────────────────────────────────────────────────\u001b[39m\n",
      "\u001b[1mDelimiter:\u001b[22m \",\"\n",
      "\u001b[31mchr\u001b[39m  (13): prename, prfname, sex, age, numtotal_atleast1dose, numtotal_parti...\n",
      "\u001b[32mdbl\u001b[39m   (4): pruid, numtotal_additional, numtotal_2nd_additional, numtotal_rec...\n",
      "\u001b[34mdate\u001b[39m  (1): week_end\n",
      "\n",
      "\u001b[36mℹ\u001b[39m Use `spec()` to retrieve the full column specification for this data.\n",
      "\u001b[36mℹ\u001b[39m Specify the column types or set `show_col_types = FALSE` to quiet this message.\n"
     ]
    },
    {
     "data": {
      "text/html": [
       "<table class=\"dataframe\">\n",
       "<caption>A spec_tbl_df: 74676 × 18</caption>\n",
       "<thead>\n",
       "\t<tr><th scope=col>pruid</th><th scope=col>prename</th><th scope=col>prfname</th><th scope=col>week_end</th><th scope=col>sex</th><th scope=col>age</th><th scope=col>numtotal_atleast1dose</th><th scope=col>numtotal_partially</th><th scope=col>numtotal_fully</th><th scope=col>numtotal_additional</th><th scope=col>numtotal_2nd_additional</th><th scope=col>numtotal_recent_fullyoradditional</th><th scope=col>proptotal_atleast1dose</th><th scope=col>proptotal_partially</th><th scope=col>proptotal_fully</th><th scope=col>proptotal_additional</th><th scope=col>proptotal_2nd_additional</th><th scope=col>proptotal_recent_fullyoradditional</th></tr>\n",
       "\t<tr><th scope=col>&lt;dbl&gt;</th><th scope=col>&lt;chr&gt;</th><th scope=col>&lt;chr&gt;</th><th scope=col>&lt;date&gt;</th><th scope=col>&lt;chr&gt;</th><th scope=col>&lt;chr&gt;</th><th scope=col>&lt;chr&gt;</th><th scope=col>&lt;chr&gt;</th><th scope=col>&lt;chr&gt;</th><th scope=col>&lt;dbl&gt;</th><th scope=col>&lt;dbl&gt;</th><th scope=col>&lt;dbl&gt;</th><th scope=col>&lt;chr&gt;</th><th scope=col>&lt;chr&gt;</th><th scope=col>&lt;chr&gt;</th><th scope=col>&lt;chr&gt;</th><th scope=col>&lt;chr&gt;</th><th scope=col>&lt;chr&gt;</th></tr>\n",
       "</thead>\n",
       "<tbody>\n",
       "\t<tr><td>1</td><td>Canada</td><td>Canada</td><td>2020-12-19</td><td>All sexes</td><td>0–15 </td><td><span style=white-space:pre-wrap>2    </span></td><td><span style=white-space:pre-wrap>2    </span></td><td>0</td><td>NA</td><td>NA</td><td>NA</td><td>&lt;0.1</td><td>&lt;0.1</td><td>0</td><td>NA</td><td>NA</td><td>NA</td></tr>\n",
       "\t<tr><td>1</td><td>Canada</td><td>Canada</td><td>2020-12-19</td><td>All sexes</td><td>16–69</td><td>11766</td><td>11766</td><td>0</td><td>NA</td><td>NA</td><td>NA</td><td>0.1 </td><td>0.1 </td><td>0</td><td>NA</td><td>NA</td><td>NA</td></tr>\n",
       "\t<tr><td>1</td><td>Canada</td><td>Canada</td><td>2020-12-19</td><td>All sexes</td><td>70–74</td><td><span style=white-space:pre-wrap>174  </span></td><td><span style=white-space:pre-wrap>174  </span></td><td>0</td><td>NA</td><td>NA</td><td>NA</td><td>&lt;0.1</td><td>&lt;0.1</td><td>0</td><td>NA</td><td>NA</td><td>NA</td></tr>\n",
       "\t<tr><td>⋮</td><td>⋮</td><td>⋮</td><td>⋮</td><td>⋮</td><td>⋮</td><td>⋮</td><td>⋮</td><td>⋮</td><td>⋮</td><td>⋮</td><td>⋮</td><td>⋮</td><td>⋮</td><td>⋮</td><td>⋮</td><td>⋮</td><td>⋮</td></tr>\n",
       "\t<tr><td>62</td><td>Nunavut</td><td>Nunavut</td><td>2022-11-06</td><td>Not reported</td><td>All ages    </td><td>0</td><td>0</td><td>0.0</td><td>0</td><td>0</td><td>NA</td><td>na</td><td>na</td><td>na</td><td>na</td><td>na</td><td>na</td></tr>\n",
       "\t<tr><td>62</td><td>Nunavut</td><td>Nunavut</td><td>2022-11-06</td><td>Not reported</td><td>Not reported</td><td>0</td><td>0</td><td>0.0</td><td>0</td><td>0</td><td>NA</td><td>na</td><td>na</td><td>na</td><td>na</td><td>na</td><td>na</td></tr>\n",
       "\t<tr><td>62</td><td>Nunavut</td><td>Nunavut</td><td>2022-11-06</td><td>Not reported</td><td>Unknown     </td><td>0</td><td>0</td><td>0.0</td><td>0</td><td>0</td><td>NA</td><td>na</td><td>na</td><td>na</td><td>na</td><td>na</td><td>na</td></tr>\n",
       "</tbody>\n",
       "</table>\n"
      ],
      "text/latex": [
       "A spec\\_tbl\\_df: 74676 × 18\n",
       "\\begin{tabular}{llllllllllllllllll}\n",
       " pruid & prename & prfname & week\\_end & sex & age & numtotal\\_atleast1dose & numtotal\\_partially & numtotal\\_fully & numtotal\\_additional & numtotal\\_2nd\\_additional & numtotal\\_recent\\_fullyoradditional & proptotal\\_atleast1dose & proptotal\\_partially & proptotal\\_fully & proptotal\\_additional & proptotal\\_2nd\\_additional & proptotal\\_recent\\_fullyoradditional\\\\\n",
       " <dbl> & <chr> & <chr> & <date> & <chr> & <chr> & <chr> & <chr> & <chr> & <dbl> & <dbl> & <dbl> & <chr> & <chr> & <chr> & <chr> & <chr> & <chr>\\\\\n",
       "\\hline\n",
       "\t 1 & Canada & Canada & 2020-12-19 & All sexes & 0–15  & 2     & 2     & 0 & NA & NA & NA & <0.1 & <0.1 & 0 & NA & NA & NA\\\\\n",
       "\t 1 & Canada & Canada & 2020-12-19 & All sexes & 16–69 & 11766 & 11766 & 0 & NA & NA & NA & 0.1  & 0.1  & 0 & NA & NA & NA\\\\\n",
       "\t 1 & Canada & Canada & 2020-12-19 & All sexes & 70–74 & 174   & 174   & 0 & NA & NA & NA & <0.1 & <0.1 & 0 & NA & NA & NA\\\\\n",
       "\t ⋮ & ⋮ & ⋮ & ⋮ & ⋮ & ⋮ & ⋮ & ⋮ & ⋮ & ⋮ & ⋮ & ⋮ & ⋮ & ⋮ & ⋮ & ⋮ & ⋮ & ⋮\\\\\n",
       "\t 62 & Nunavut & Nunavut & 2022-11-06 & Not reported & All ages     & 0 & 0 & 0.0 & 0 & 0 & NA & na & na & na & na & na & na\\\\\n",
       "\t 62 & Nunavut & Nunavut & 2022-11-06 & Not reported & Not reported & 0 & 0 & 0.0 & 0 & 0 & NA & na & na & na & na & na & na\\\\\n",
       "\t 62 & Nunavut & Nunavut & 2022-11-06 & Not reported & Unknown      & 0 & 0 & 0.0 & 0 & 0 & NA & na & na & na & na & na & na\\\\\n",
       "\\end{tabular}\n"
      ],
      "text/markdown": [
       "\n",
       "A spec_tbl_df: 74676 × 18\n",
       "\n",
       "| pruid &lt;dbl&gt; | prename &lt;chr&gt; | prfname &lt;chr&gt; | week_end &lt;date&gt; | sex &lt;chr&gt; | age &lt;chr&gt; | numtotal_atleast1dose &lt;chr&gt; | numtotal_partially &lt;chr&gt; | numtotal_fully &lt;chr&gt; | numtotal_additional &lt;dbl&gt; | numtotal_2nd_additional &lt;dbl&gt; | numtotal_recent_fullyoradditional &lt;dbl&gt; | proptotal_atleast1dose &lt;chr&gt; | proptotal_partially &lt;chr&gt; | proptotal_fully &lt;chr&gt; | proptotal_additional &lt;chr&gt; | proptotal_2nd_additional &lt;chr&gt; | proptotal_recent_fullyoradditional &lt;chr&gt; |\n",
       "|---|---|---|---|---|---|---|---|---|---|---|---|---|---|---|---|---|---|\n",
       "| 1 | Canada | Canada | 2020-12-19 | All sexes | 0–15  | 2     | 2     | 0 | NA | NA | NA | &lt;0.1 | &lt;0.1 | 0 | NA | NA | NA |\n",
       "| 1 | Canada | Canada | 2020-12-19 | All sexes | 16–69 | 11766 | 11766 | 0 | NA | NA | NA | 0.1  | 0.1  | 0 | NA | NA | NA |\n",
       "| 1 | Canada | Canada | 2020-12-19 | All sexes | 70–74 | 174   | 174   | 0 | NA | NA | NA | &lt;0.1 | &lt;0.1 | 0 | NA | NA | NA |\n",
       "| ⋮ | ⋮ | ⋮ | ⋮ | ⋮ | ⋮ | ⋮ | ⋮ | ⋮ | ⋮ | ⋮ | ⋮ | ⋮ | ⋮ | ⋮ | ⋮ | ⋮ | ⋮ |\n",
       "| 62 | Nunavut | Nunavut | 2022-11-06 | Not reported | All ages     | 0 | 0 | 0.0 | 0 | 0 | NA | na | na | na | na | na | na |\n",
       "| 62 | Nunavut | Nunavut | 2022-11-06 | Not reported | Not reported | 0 | 0 | 0.0 | 0 | 0 | NA | na | na | na | na | na | na |\n",
       "| 62 | Nunavut | Nunavut | 2022-11-06 | Not reported | Unknown      | 0 | 0 | 0.0 | 0 | 0 | NA | na | na | na | na | na | na |\n",
       "\n"
      ],
      "text/plain": [
       "      pruid prename prfname week_end   sex          age         \n",
       "1     1     Canada  Canada  2020-12-19 All sexes    0–15        \n",
       "2     1     Canada  Canada  2020-12-19 All sexes    16–69       \n",
       "3     1     Canada  Canada  2020-12-19 All sexes    70–74       \n",
       "⋮     ⋮     ⋮       ⋮       ⋮          ⋮            ⋮           \n",
       "74674 62    Nunavut Nunavut 2022-11-06 Not reported All ages    \n",
       "74675 62    Nunavut Nunavut 2022-11-06 Not reported Not reported\n",
       "74676 62    Nunavut Nunavut 2022-11-06 Not reported Unknown     \n",
       "      numtotal_atleast1dose numtotal_partially numtotal_fully\n",
       "1     2                     2                  0             \n",
       "2     11766                 11766              0             \n",
       "3     174                   174                0             \n",
       "⋮     ⋮                     ⋮                  ⋮             \n",
       "74674 0                     0                  0.0           \n",
       "74675 0                     0                  0.0           \n",
       "74676 0                     0                  0.0           \n",
       "      numtotal_additional numtotal_2nd_additional\n",
       "1     NA                  NA                     \n",
       "2     NA                  NA                     \n",
       "3     NA                  NA                     \n",
       "⋮     ⋮                   ⋮                      \n",
       "74674 0                   0                      \n",
       "74675 0                   0                      \n",
       "74676 0                   0                      \n",
       "      numtotal_recent_fullyoradditional proptotal_atleast1dose\n",
       "1     NA                                <0.1                  \n",
       "2     NA                                0.1                   \n",
       "3     NA                                <0.1                  \n",
       "⋮     ⋮                                 ⋮                     \n",
       "74674 NA                                na                    \n",
       "74675 NA                                na                    \n",
       "74676 NA                                na                    \n",
       "      proptotal_partially proptotal_fully proptotal_additional\n",
       "1     <0.1                0               NA                  \n",
       "2     0.1                 0               NA                  \n",
       "3     <0.1                0               NA                  \n",
       "⋮     ⋮                   ⋮               ⋮                   \n",
       "74674 na                  na              na                  \n",
       "74675 na                  na              na                  \n",
       "74676 na                  na              na                  \n",
       "      proptotal_2nd_additional proptotal_recent_fullyoradditional\n",
       "1     NA                       NA                                \n",
       "2     NA                       NA                                \n",
       "3     NA                       NA                                \n",
       "⋮     ⋮                        ⋮                                 \n",
       "74674 na                       na                                \n",
       "74675 na                       na                                \n",
       "74676 na                       na                                "
      ]
     },
     "metadata": {},
     "output_type": "display_data"
    }
   ],
   "source": [
    "data <- read_csv(\"abc/newvaccine.csv\")\n",
    "data"
   ]
  },
  {
   "cell_type": "code",
   "execution_count": 3,
   "id": "295966c9-81e8-423a-aca0-64974ed1d12e",
   "metadata": {},
   "outputs": [],
   "source": [
    "data_allsex_canada<- data|>\n",
    "filter(prename==\"Canada\")|>\n",
    "filter(sex==\"All sexes\")|>\n",
    "mutate(numtotal_atleast1dose=as.numeric(numtotal_atleast1dose))|>\n",
    "mutate(numtotal_fully=as.numeric(numtotal_fully))|>\n",
    "mutate(numtotal_additional=as.numeric(numtotal_additional))|>\n",
    "mutate(numtotal_partially=as.numeric(numtotal_partially))\n",
    "\n",
    "data2<-data_allsex_canada |> \n",
    "    select(week_end:numtotal_recent_fullyoradditional, -sex)"
   ]
  },
  {
   "cell_type": "code",
   "execution_count": 11,
   "id": "2d95ac7b-1177-4f29-94bd-519af73f1032",
   "metadata": {},
   "outputs": [],
   "source": [
    "newdata<- data2|>\n",
    "    mutate(days=as.numeric(week_end)-18615)|>\n",
    "    select(-week_end)"
   ]
  },
  {
   "cell_type": "code",
   "execution_count": 12,
   "id": "12b46683-216e-4eb9-880b-02d05d132b52",
   "metadata": {},
   "outputs": [
    {
     "data": {
      "text/html": [
       "<table class=\"dataframe\">\n",
       "<caption>A tibble: 915 × 8</caption>\n",
       "<thead>\n",
       "\t<tr><th scope=col>age</th><th scope=col>numtotal_atleast1dose</th><th scope=col>days</th><th scope=col>dose1</th><th scope=col>dose2</th><th scope=col>dose3</th><th scope=col>dose4</th><th scope=col>dose5</th></tr>\n",
       "\t<tr><th scope=col>&lt;chr&gt;</th><th scope=col>&lt;dbl&gt;</th><th scope=col>&lt;dbl&gt;</th><th scope=col>&lt;dbl&gt;</th><th scope=col>&lt;dbl&gt;</th><th scope=col>&lt;dbl&gt;</th><th scope=col>&lt;dbl&gt;</th><th scope=col>&lt;dbl&gt;</th></tr>\n",
       "</thead>\n",
       "<tbody>\n",
       "\t<tr><td>0–15 </td><td>    2</td><td>0</td><td>    2</td><td>0</td><td>NA</td><td>NA</td><td>NA</td></tr>\n",
       "\t<tr><td>16–69</td><td>11766</td><td>0</td><td>11766</td><td>0</td><td>NA</td><td>NA</td><td>NA</td></tr>\n",
       "\t<tr><td>70–74</td><td>  174</td><td>0</td><td>  174</td><td>0</td><td>NA</td><td>NA</td><td>NA</td></tr>\n",
       "\t<tr><td>⋮</td><td>⋮</td><td>⋮</td><td>⋮</td><td>⋮</td><td>⋮</td><td>⋮</td><td>⋮</td></tr>\n",
       "\t<tr><td>All ages    </td><td>32355994</td><td>687</td><td>2676211</td><td>24302196</td><td>19459403</td><td>7274231</td><td>7741196</td></tr>\n",
       "\t<tr><td>Not reported</td><td>     410</td><td>687</td><td>    357</td><td>      53</td><td>       0</td><td>      0</td><td>     53</td></tr>\n",
       "\t<tr><td>Unknown     </td><td>   18043</td><td>687</td><td>   2569</td><td>   15474</td><td>   10960</td><td>   4831</td><td>   8673</td></tr>\n",
       "</tbody>\n",
       "</table>\n"
      ],
      "text/latex": [
       "A tibble: 915 × 8\n",
       "\\begin{tabular}{llllllll}\n",
       " age & numtotal\\_atleast1dose & days & dose1 & dose2 & dose3 & dose4 & dose5\\\\\n",
       " <chr> & <dbl> & <dbl> & <dbl> & <dbl> & <dbl> & <dbl> & <dbl>\\\\\n",
       "\\hline\n",
       "\t 0–15  &     2 & 0 &     2 & 0 & NA & NA & NA\\\\\n",
       "\t 16–69 & 11766 & 0 & 11766 & 0 & NA & NA & NA\\\\\n",
       "\t 70–74 &   174 & 0 &   174 & 0 & NA & NA & NA\\\\\n",
       "\t ⋮ & ⋮ & ⋮ & ⋮ & ⋮ & ⋮ & ⋮ & ⋮\\\\\n",
       "\t All ages     & 32355994 & 687 & 2676211 & 24302196 & 19459403 & 7274231 & 7741196\\\\\n",
       "\t Not reported &      410 & 687 &     357 &       53 &        0 &       0 &      53\\\\\n",
       "\t Unknown      &    18043 & 687 &    2569 &    15474 &    10960 &    4831 &    8673\\\\\n",
       "\\end{tabular}\n"
      ],
      "text/markdown": [
       "\n",
       "A tibble: 915 × 8\n",
       "\n",
       "| age &lt;chr&gt; | numtotal_atleast1dose &lt;dbl&gt; | days &lt;dbl&gt; | dose1 &lt;dbl&gt; | dose2 &lt;dbl&gt; | dose3 &lt;dbl&gt; | dose4 &lt;dbl&gt; | dose5 &lt;dbl&gt; |\n",
       "|---|---|---|---|---|---|---|---|\n",
       "| 0–15  |     2 | 0 |     2 | 0 | NA | NA | NA |\n",
       "| 16–69 | 11766 | 0 | 11766 | 0 | NA | NA | NA |\n",
       "| 70–74 |   174 | 0 |   174 | 0 | NA | NA | NA |\n",
       "| ⋮ | ⋮ | ⋮ | ⋮ | ⋮ | ⋮ | ⋮ | ⋮ |\n",
       "| All ages     | 32355994 | 687 | 2676211 | 24302196 | 19459403 | 7274231 | 7741196 |\n",
       "| Not reported |      410 | 687 |     357 |       53 |        0 |       0 |      53 |\n",
       "| Unknown      |    18043 | 687 |    2569 |    15474 |    10960 |    4831 |    8673 |\n",
       "\n"
      ],
      "text/plain": [
       "    age          numtotal_atleast1dose days dose1   dose2    dose3    dose4  \n",
       "1   0–15             2                 0        2   0        NA       NA     \n",
       "2   16–69        11766                 0    11766   0        NA       NA     \n",
       "3   70–74          174                 0      174   0        NA       NA     \n",
       "⋮   ⋮            ⋮                     ⋮    ⋮       ⋮        ⋮        ⋮      \n",
       "913 All ages     32355994              687  2676211 24302196 19459403 7274231\n",
       "914 Not reported      410              687      357       53        0       0\n",
       "915 Unknown         18043              687     2569    15474    10960    4831\n",
       "    dose5  \n",
       "1   NA     \n",
       "2   NA     \n",
       "3   NA     \n",
       "⋮   ⋮      \n",
       "913 7741196\n",
       "914      53\n",
       "915    8673"
      ]
     },
     "metadata": {},
     "output_type": "display_data"
    }
   ],
   "source": [
    "newnewdata <- newdata|>\n",
    "mutate(days=days)|>\n",
    "mutate(numtotal_atleast1dose=as.vector(numtotal_atleast1dose))|>\n",
    "mutate(dose1=as.vector(numtotal_partially))|>\n",
    "mutate(dose2=as.vector(numtotal_fully))|>\n",
    "mutate(dose3=as.vector(numtotal_additional))|>\n",
    "mutate(dose4=as.vector(numtotal_2nd_additional))|>\n",
    "mutate(dose5=as.vector(numtotal_recent_fullyoradditional))|>\n",
    "select(-numtotal_recent_fullyoradditional,-numtotal_2nd_additional,-numtotal_fully,-numtotal_partially,-numtotal_additional)\n",
    "newnewdata"
   ]
  },
  {
   "cell_type": "code",
   "execution_count": 17,
   "id": "3ffe8103-d904-4b49-8c30-2ac40d89a4d5",
   "metadata": {},
   "outputs": [
    {
     "name": "stdout",
     "output_type": "stream",
     "text": [
      "\u001b[90m# A tibble: 13 × 7\u001b[39m\n",
      "   age             dose2    dose3   dose4   dose5 numtotal_atleast1dose   dose1\n",
      "   \u001b[3m\u001b[90m<chr>\u001b[39m\u001b[23m           \u001b[3m\u001b[90m<dbl>\u001b[39m\u001b[23m    \u001b[3m\u001b[90m<dbl>\u001b[39m\u001b[23m   \u001b[3m\u001b[90m<dbl>\u001b[39m\u001b[23m   \u001b[3m\u001b[90m<dbl>\u001b[39m\u001b[23m                 \u001b[3m\u001b[90m<dbl>\u001b[39m\u001b[23m   \u001b[3m\u001b[90m<dbl>\u001b[39m\u001b[23m\n",
      "\u001b[90m 1\u001b[39m 0–4             \u001b[4m4\u001b[24m\u001b[4m5\u001b[24m376      249       0   \u001b[4m4\u001b[24m\u001b[4m4\u001b[24m864                \u001b[4m1\u001b[24m\u001b[4m3\u001b[24m\u001b[4m7\u001b[24m863   \u001b[4m9\u001b[24m\u001b[4m2\u001b[24m487\n",
      "\u001b[90m 2\u001b[39m 05–11         1\u001b[4m2\u001b[24m\u001b[4m0\u001b[24m\u001b[4m2\u001b[24m686   \u001b[4m1\u001b[24m\u001b[4m3\u001b[24m\u001b[4m8\u001b[24m469     127  \u001b[4m2\u001b[24m\u001b[4m2\u001b[24m\u001b[4m4\u001b[24m794               1\u001b[4m5\u001b[24m\u001b[4m5\u001b[24m\u001b[4m1\u001b[24m388  \u001b[4m3\u001b[24m\u001b[4m4\u001b[24m\u001b[4m8\u001b[24m702\n",
      "\u001b[90m 3\u001b[39m 12–17         2\u001b[4m0\u001b[24m\u001b[4m3\u001b[24m\u001b[4m8\u001b[24m472   \u001b[4m4\u001b[24m\u001b[4m3\u001b[24m\u001b[4m6\u001b[24m123   \u001b[4m4\u001b[24m\u001b[4m6\u001b[24m477  \u001b[4m1\u001b[24m\u001b[4m9\u001b[24m\u001b[4m1\u001b[24m174               2\u001b[4m1\u001b[24m\u001b[4m3\u001b[24m\u001b[4m7\u001b[24m950   \u001b[4m9\u001b[24m\u001b[4m9\u001b[24m478\n",
      "\u001b[90m 4\u001b[39m 18–29         4\u001b[4m0\u001b[24m\u001b[4m6\u001b[24m\u001b[4m9\u001b[24m789  2\u001b[4m2\u001b[24m\u001b[4m6\u001b[24m\u001b[4m1\u001b[24m159  \u001b[4m2\u001b[24m\u001b[4m9\u001b[24m\u001b[4m8\u001b[24m738  \u001b[4m4\u001b[24m\u001b[4m3\u001b[24m\u001b[4m6\u001b[24m666               5\u001b[4m2\u001b[24m\u001b[4m1\u001b[24m\u001b[4m0\u001b[24m370  \u001b[4m6\u001b[24m\u001b[4m5\u001b[24m\u001b[4m1\u001b[24m777\n",
      "\u001b[90m 5\u001b[39m 30–39         3\u001b[4m6\u001b[24m\u001b[4m9\u001b[24m\u001b[4m1\u001b[24m216  2\u001b[4m4\u001b[24m\u001b[4m6\u001b[24m\u001b[4m1\u001b[24m016  \u001b[4m4\u001b[24m\u001b[4m9\u001b[24m\u001b[4m6\u001b[24m599  \u001b[4m6\u001b[24m\u001b[4m1\u001b[24m\u001b[4m8\u001b[24m836               4\u001b[4m7\u001b[24m\u001b[4m5\u001b[24m\u001b[4m9\u001b[24m416  \u001b[4m5\u001b[24m\u001b[4m2\u001b[24m\u001b[4m0\u001b[24m165\n",
      "\u001b[90m 6\u001b[39m 40–49         3\u001b[4m3\u001b[24m\u001b[4m6\u001b[24m\u001b[4m4\u001b[24m231  2\u001b[4m6\u001b[24m\u001b[4m9\u001b[24m\u001b[4m8\u001b[24m513  \u001b[4m6\u001b[24m\u001b[4m2\u001b[24m\u001b[4m3\u001b[24m171  \u001b[4m7\u001b[24m\u001b[4m3\u001b[24m\u001b[4m9\u001b[24m746               4\u001b[4m4\u001b[24m\u001b[4m3\u001b[24m\u001b[4m5\u001b[24m100  \u001b[4m3\u001b[24m\u001b[4m8\u001b[24m\u001b[4m8\u001b[24m482\n",
      "\u001b[90m 7\u001b[39m 50–59         3\u001b[4m5\u001b[24m\u001b[4m2\u001b[24m\u001b[4m1\u001b[24m427  3\u001b[4m2\u001b[24m\u001b[4m4\u001b[24m\u001b[4m9\u001b[24m238 1\u001b[4m0\u001b[24m\u001b[4m1\u001b[24m\u001b[4m3\u001b[24m386 1\u001b[4m1\u001b[24m\u001b[4m3\u001b[24m\u001b[4m4\u001b[24m812               4\u001b[4m5\u001b[24m\u001b[4m8\u001b[24m\u001b[4m1\u001b[24m070  \u001b[4m2\u001b[24m\u001b[4m8\u001b[24m\u001b[4m0\u001b[24m803\n",
      "\u001b[90m 8\u001b[39m 60–69         3\u001b[4m4\u001b[24m\u001b[4m7\u001b[24m\u001b[4m4\u001b[24m596  3\u001b[4m8\u001b[24m\u001b[4m1\u001b[24m\u001b[4m5\u001b[24m144 1\u001b[4m8\u001b[24m\u001b[4m8\u001b[24m\u001b[4m4\u001b[24m004 1\u001b[4m8\u001b[24m\u001b[4m6\u001b[24m\u001b[4m5\u001b[24m873               4\u001b[4m6\u001b[24m\u001b[4m3\u001b[24m\u001b[4m0\u001b[24m901  \u001b[4m1\u001b[24m\u001b[4m7\u001b[24m\u001b[4m3\u001b[24m430\n",
      "\u001b[90m 9\u001b[39m 70–79         2\u001b[4m3\u001b[24m\u001b[4m2\u001b[24m\u001b[4m9\u001b[24m204  2\u001b[4m8\u001b[24m\u001b[4m0\u001b[24m\u001b[4m2\u001b[24m709 1\u001b[4m8\u001b[24m\u001b[4m1\u001b[24m\u001b[4m4\u001b[24m744 1\u001b[4m5\u001b[24m\u001b[4m9\u001b[24m\u001b[4m5\u001b[24m542               3\u001b[4m1\u001b[24m\u001b[4m3\u001b[24m\u001b[4m3\u001b[24m249   \u001b[4m7\u001b[24m\u001b[4m6\u001b[24m147\n",
      "\u001b[90m10\u001b[39m 80+           1\u001b[4m3\u001b[24m\u001b[4m1\u001b[24m\u001b[4m1\u001b[24m700  1\u001b[4m5\u001b[24m\u001b[4m8\u001b[24m\u001b[4m5\u001b[24m823 1\u001b[4m0\u001b[24m\u001b[4m9\u001b[24m\u001b[4m2\u001b[24m154  \u001b[4m8\u001b[24m\u001b[4m8\u001b[24m\u001b[4m0\u001b[24m163               1\u001b[4m7\u001b[24m\u001b[4m6\u001b[24m\u001b[4m0\u001b[24m234   \u001b[4m4\u001b[24m\u001b[4m1\u001b[24m814\n",
      "\u001b[90m11\u001b[39m All ages     24\u001b[4m3\u001b[24m\u001b[4m0\u001b[24m\u001b[4m2\u001b[24m196 19\u001b[4m4\u001b[24m\u001b[4m5\u001b[24m\u001b[4m9\u001b[24m403 7\u001b[4m2\u001b[24m\u001b[4m7\u001b[24m\u001b[4m4\u001b[24m231 7\u001b[4m7\u001b[24m\u001b[4m4\u001b[24m\u001b[4m1\u001b[24m196              32\u001b[4m3\u001b[24m\u001b[4m5\u001b[24m\u001b[4m5\u001b[24m994 2\u001b[4m6\u001b[24m\u001b[4m7\u001b[24m\u001b[4m6\u001b[24m211\n",
      "\u001b[90m12\u001b[39m Not reported       53        0       0      53                   410     357\n",
      "\u001b[90m13\u001b[39m Unknown         \u001b[4m1\u001b[24m\u001b[4m5\u001b[24m474    \u001b[4m1\u001b[24m\u001b[4m0\u001b[24m960    \u001b[4m4\u001b[24m831    \u001b[4m8\u001b[24m673                 \u001b[4m1\u001b[24m\u001b[4m8\u001b[24m043    \u001b[4m2\u001b[24m569\n"
     ]
    }
   ],
   "source": [
    "daydata<-newnewdata|>filter(days==687)|>select(age,dose2,dose3,dose4,dose5,numtotal_atleast1dose,dose1)\n",
    "print(daydata)"
   ]
  },
  {
   "cell_type": "code",
   "execution_count": 60,
   "id": "b57a4081-c440-4d0a-9c47-740348946698",
   "metadata": {},
   "outputs": [
    {
     "data": {
      "text/html": [
       "<table class=\"dataframe\">\n",
       "<caption>A data.frame: 9 × 6</caption>\n",
       "<thead>\n",
       "\t<tr><th scope=col>age</th><th scope=col>dose1</th><th scope=col>dose2</th><th scope=col>dose3</th><th scope=col>dose4</th><th scope=col>dose5.</th></tr>\n",
       "\t<tr><th scope=col>&lt;chr&gt;</th><th scope=col>&lt;dbl&gt;</th><th scope=col>&lt;dbl&gt;</th><th scope=col>&lt;dbl&gt;</th><th scope=col>&lt;dbl&gt;</th><th scope=col>&lt;dbl&gt;</th></tr>\n",
       "</thead>\n",
       "<tbody>\n",
       "\t<tr><td>0-10 </td><td>0.05135594</td><td>0.05135594</td><td>0.007128585</td><td>0.0006815841</td><td>0.0006815841</td></tr>\n",
       "\t<tr><td>10-20</td><td>0.08388016</td><td>0.08388016</td><td>0.022411941</td><td>0.0063892664</td><td>0.0063892664</td></tr>\n",
       "\t<tr><td>20-30</td><td>0.16746589</td><td>0.16746589</td><td>0.116198786</td><td>0.0410679837</td><td>0.0410679837</td></tr>\n",
       "\t<tr><td>⋮</td><td>⋮</td><td>⋮</td><td>⋮</td><td>⋮</td><td>⋮</td></tr>\n",
       "\t<tr><td>60-70</td><td>0.14297457</td><td>0.14297457</td><td>0.19605658</td><td>0.2589970</td><td>0.2589970</td></tr>\n",
       "\t<tr><td>70-80</td><td>0.09584336</td><td>0.09584336</td><td>0.14402852</td><td>0.2494757</td><td>0.2494757</td></tr>\n",
       "\t<tr><td>80+  </td><td>0.05397455</td><td>0.05397455</td><td>0.08149392</td><td>0.1501401</td><td>0.1501401</td></tr>\n",
       "</tbody>\n",
       "</table>\n"
      ],
      "text/latex": [
       "A data.frame: 9 × 6\n",
       "\\begin{tabular}{llllll}\n",
       " age & dose1 & dose2 & dose3 & dose4 & dose5.\\\\\n",
       " <chr> & <dbl> & <dbl> & <dbl> & <dbl> & <dbl>\\\\\n",
       "\\hline\n",
       "\t 0-10  & 0.05135594 & 0.05135594 & 0.007128585 & 0.0006815841 & 0.0006815841\\\\\n",
       "\t 10-20 & 0.08388016 & 0.08388016 & 0.022411941 & 0.0063892664 & 0.0063892664\\\\\n",
       "\t 20-30 & 0.16746589 & 0.16746589 & 0.116198786 & 0.0410679837 & 0.0410679837\\\\\n",
       "\t ⋮ & ⋮ & ⋮ & ⋮ & ⋮ & ⋮\\\\\n",
       "\t 60-70 & 0.14297457 & 0.14297457 & 0.19605658 & 0.2589970 & 0.2589970\\\\\n",
       "\t 70-80 & 0.09584336 & 0.09584336 & 0.14402852 & 0.2494757 & 0.2494757\\\\\n",
       "\t 80+   & 0.05397455 & 0.05397455 & 0.08149392 & 0.1501401 & 0.1501401\\\\\n",
       "\\end{tabular}\n"
      ],
      "text/markdown": [
       "\n",
       "A data.frame: 9 × 6\n",
       "\n",
       "| age &lt;chr&gt; | dose1 &lt;dbl&gt; | dose2 &lt;dbl&gt; | dose3 &lt;dbl&gt; | dose4 &lt;dbl&gt; | dose5. &lt;dbl&gt; |\n",
       "|---|---|---|---|---|---|\n",
       "| 0-10  | 0.05135594 | 0.05135594 | 0.007128585 | 0.0006815841 | 0.0006815841 |\n",
       "| 10-20 | 0.08388016 | 0.08388016 | 0.022411941 | 0.0063892664 | 0.0063892664 |\n",
       "| 20-30 | 0.16746589 | 0.16746589 | 0.116198786 | 0.0410679837 | 0.0410679837 |\n",
       "| ⋮ | ⋮ | ⋮ | ⋮ | ⋮ | ⋮ |\n",
       "| 60-70 | 0.14297457 | 0.14297457 | 0.19605658 | 0.2589970 | 0.2589970 |\n",
       "| 70-80 | 0.09584336 | 0.09584336 | 0.14402852 | 0.2494757 | 0.2494757 |\n",
       "| 80+   | 0.05397455 | 0.05397455 | 0.08149392 | 0.1501401 | 0.1501401 |\n",
       "\n"
      ],
      "text/plain": [
       "  age   dose1      dose2      dose3       dose4        dose5.      \n",
       "1 0-10  0.05135594 0.05135594 0.007128585 0.0006815841 0.0006815841\n",
       "2 10-20 0.08388016 0.08388016 0.022411941 0.0063892664 0.0063892664\n",
       "3 20-30 0.16746589 0.16746589 0.116198786 0.0410679837 0.0410679837\n",
       "⋮ ⋮     ⋮          ⋮          ⋮           ⋮            ⋮           \n",
       "7 60-70 0.14297457 0.14297457 0.19605658  0.2589970    0.2589970   \n",
       "8 70-80 0.09584336 0.09584336 0.14402852  0.2494757    0.2494757   \n",
       "9 80+   0.05397455 0.05397455 0.08149392  0.1501401    0.1501401   "
      ]
     },
     "metadata": {},
     "output_type": "display_data"
    }
   ],
   "source": [
    "agec<-c(\"0-10\",\n",
    "       \"10-20\",\n",
    "       \"20-30\",\n",
    "       \"30-40\",\n",
    "       \"40-50\",\n",
    "       \"50-60\",\n",
    "       \"60-70\",\n",
    "       \"70-80\",\n",
    "       \"80+\"\n",
    "      )\n",
    "dose2<-c((45376 +1202686)/24302196,  \n",
    " 2038472/24302196 ,\n",
    "4069789/24302196 ,\n",
    "3691216 /24302196 ,\n",
    "3364231/24302196 ,\n",
    "3521427 /24302196 ,\n",
    "3474596 /24302196 ,\n",
    "2329204/24302196 ,\n",
    "1311700/24302196 )\n",
    "dose3<-c((249+138469)/19459403,\n",
    "436123 /19459403,\n",
    "2261159/19459403,\n",
    "2461016/19459403,\n",
    "2698513/19459403,\n",
    "3249238/19459403,\n",
    "3815144/19459403,\n",
    "2802709/19459403,\n",
    "1585823/19459403)\n",
    "dose4<-c(0.000681584073973007,\n",
    "46477/7274231,\n",
    "298738/7274231,\n",
    "496599 /7274231,\n",
    "623171/7274231,\n",
    "1013386/7274231,\n",
    "1884004/7274231,\n",
    "1814744/7274231,\n",
    "1092154/7274231)\n",
    "agepercent <- data.frame(age = agec,\n",
    "                          dose1 = dose2,\n",
    "                          dose2 = dose2,\n",
    "                          dose3 = dose3,\n",
    "                          dose4 = dose4,\n",
    "                        dose5+=dose4)\n",
    "agepercent"
   ]
  },
  {
   "cell_type": "code",
   "execution_count": 49,
   "id": "2dbd9c14-b620-4fe2-b8cc-c9a014c0294f",
   "metadata": {},
   "outputs": [
    {
     "data": {
      "text/html": [
       "<table class=\"dataframe\">\n",
       "<caption>A data.frame: 9 × 5</caption>\n",
       "<thead>\n",
       "\t<tr><th scope=col>age</th><th scope=col>dose1</th><th scope=col>dose2</th><th scope=col>dose3</th><th scope=col>dose4</th></tr>\n",
       "\t<tr><th scope=col>&lt;chr&gt;</th><th scope=col>&lt;dbl&gt;</th><th scope=col>&lt;dbl&gt;</th><th scope=col>&lt;dbl&gt;</th><th scope=col>&lt;dbl&gt;</th></tr>\n",
       "</thead>\n",
       "<tbody>\n",
       "\t<tr><td>0-10 </td><td> 5.135594</td><td> 5.135594</td><td> 0.7128585</td><td>0.06815841</td></tr>\n",
       "\t<tr><td>10-20</td><td> 8.388016</td><td> 8.388016</td><td> 2.2411941</td><td>0.63892664</td></tr>\n",
       "\t<tr><td>20-30</td><td>16.746589</td><td>16.746589</td><td>11.6198786</td><td>4.10679837</td></tr>\n",
       "\t<tr><td>⋮</td><td>⋮</td><td>⋮</td><td>⋮</td><td>⋮</td></tr>\n",
       "\t<tr><td>60-70</td><td>14.297457</td><td>14.297457</td><td>19.605658</td><td>25.89970</td></tr>\n",
       "\t<tr><td>70-80</td><td> 9.584336</td><td> 9.584336</td><td>14.402852</td><td>24.94757</td></tr>\n",
       "\t<tr><td>80+  </td><td> 5.397455</td><td> 5.397455</td><td> 8.149392</td><td>15.01401</td></tr>\n",
       "</tbody>\n",
       "</table>\n"
      ],
      "text/latex": [
       "A data.frame: 9 × 5\n",
       "\\begin{tabular}{lllll}\n",
       " age & dose1 & dose2 & dose3 & dose4\\\\\n",
       " <chr> & <dbl> & <dbl> & <dbl> & <dbl>\\\\\n",
       "\\hline\n",
       "\t 0-10  &  5.135594 &  5.135594 &  0.7128585 & 0.06815841\\\\\n",
       "\t 10-20 &  8.388016 &  8.388016 &  2.2411941 & 0.63892664\\\\\n",
       "\t 20-30 & 16.746589 & 16.746589 & 11.6198786 & 4.10679837\\\\\n",
       "\t ⋮ & ⋮ & ⋮ & ⋮ & ⋮\\\\\n",
       "\t 60-70 & 14.297457 & 14.297457 & 19.605658 & 25.89970\\\\\n",
       "\t 70-80 &  9.584336 &  9.584336 & 14.402852 & 24.94757\\\\\n",
       "\t 80+   &  5.397455 &  5.397455 &  8.149392 & 15.01401\\\\\n",
       "\\end{tabular}\n"
      ],
      "text/markdown": [
       "\n",
       "A data.frame: 9 × 5\n",
       "\n",
       "| age &lt;chr&gt; | dose1 &lt;dbl&gt; | dose2 &lt;dbl&gt; | dose3 &lt;dbl&gt; | dose4 &lt;dbl&gt; |\n",
       "|---|---|---|---|---|\n",
       "| 0-10  |  5.135594 |  5.135594 |  0.7128585 | 0.06815841 |\n",
       "| 10-20 |  8.388016 |  8.388016 |  2.2411941 | 0.63892664 |\n",
       "| 20-30 | 16.746589 | 16.746589 | 11.6198786 | 4.10679837 |\n",
       "| ⋮ | ⋮ | ⋮ | ⋮ | ⋮ |\n",
       "| 60-70 | 14.297457 | 14.297457 | 19.605658 | 25.89970 |\n",
       "| 70-80 |  9.584336 |  9.584336 | 14.402852 | 24.94757 |\n",
       "| 80+   |  5.397455 |  5.397455 |  8.149392 | 15.01401 |\n",
       "\n"
      ],
      "text/plain": [
       "  age   dose1     dose2     dose3      dose4     \n",
       "1 0-10   5.135594  5.135594  0.7128585 0.06815841\n",
       "2 10-20  8.388016  8.388016  2.2411941 0.63892664\n",
       "3 20-30 16.746589 16.746589 11.6198786 4.10679837\n",
       "⋮ ⋮     ⋮         ⋮         ⋮          ⋮         \n",
       "7 60-70 14.297457 14.297457 19.605658  25.89970  \n",
       "8 70-80  9.584336  9.584336 14.402852  24.94757  \n",
       "9 80+    5.397455  5.397455  8.149392  15.01401  "
      ]
     },
     "metadata": {},
     "output_type": "display_data"
    }
   ],
   "source": []
  },
  {
   "cell_type": "code",
   "execution_count": 30,
   "id": "cf5cb363-b962-45d5-aade-77001a2b078c",
   "metadata": {},
   "outputs": [
    {
     "data": {
      "text/html": [
       "0.000681584073973007"
      ],
      "text/latex": [
       "0.000681584073973007"
      ],
      "text/markdown": [
       "0.000681584073973007"
      ],
      "text/plain": [
       "[1] 0.0006815841"
      ]
     },
     "metadata": {},
     "output_type": "display_data"
    }
   ],
   "source": [
    "a<-0.00638926643929784+\n",
    "0.0410679836810241+\n",
    "0.0682682471865411+\n",
    "0.0856682995082229+\n",
    "0.139311770550042+\n",
    "0.258996999132967+\n",
    "0.249475717776903+\n",
    "0.150140131651029\n",
    "\n",
    "(1-a)"
   ]
  },
  {
   "cell_type": "code",
   "execution_count": 6,
   "id": "458163c4-8ee5-4818-bc12-251a164d6462",
   "metadata": {},
   "outputs": [
    {
     "data": {
      "text/html": [
       "0"
      ],
      "text/latex": [
       "0"
      ],
      "text/markdown": [
       "0"
      ],
      "text/plain": [
       "[1] 0"
      ]
     },
     "metadata": {},
     "output_type": "display_data"
    },
    {
     "data": {
      "text/html": [
       "0"
      ],
      "text/latex": [
       "0"
      ],
      "text/markdown": [
       "0"
      ],
      "text/plain": [
       "[1] 0"
      ]
     },
     "metadata": {},
     "output_type": "display_data"
    },
    {
     "data": {
      "text/html": [
       "0"
      ],
      "text/latex": [
       "0"
      ],
      "text/markdown": [
       "0"
      ],
      "text/plain": [
       "[1] 0"
      ]
     },
     "metadata": {},
     "output_type": "display_data"
    },
    {
     "data": {
      "text/html": [
       "564"
      ],
      "text/latex": [
       "564"
      ],
      "text/markdown": [
       "564"
      ],
      "text/plain": [
       "[1] 564"
      ]
     },
     "metadata": {},
     "output_type": "display_data"
    },
    {
     "data": {
      "text/html": [
       "629"
      ],
      "text/latex": [
       "629"
      ],
      "text/markdown": [
       "629"
      ],
      "text/plain": [
       "[1] 629"
      ]
     },
     "metadata": {},
     "output_type": "display_data"
    },
    {
     "data": {
      "text/html": [
       "866"
      ],
      "text/latex": [
       "866"
      ],
      "text/markdown": [
       "866"
      ],
      "text/plain": [
       "[1] 866"
      ]
     },
     "metadata": {},
     "output_type": "display_data"
    }
   ],
   "source": [
    "na_row_total<- nrow(newnewdata[is.na(newnewdata$numtotal_atleast1dose),])\n",
    "na_row_total\n",
    "na_row_1<- nrow(newnewdata[is.na(newnewdata$dose1),])\n",
    "na_row_1\n",
    "na_row_2<- nrow(newnewdata[is.na(newnewdata$dose2),])\n",
    "na_row_2\n",
    "na_row_3<- nrow(newnewdata[is.na(newnewdata$dose3),])\n",
    "na_row_3\n",
    "na_row_4<- nrow(newnewdata[is.na(newnewdata$dose4),])\n",
    "na_row_4\n",
    "na_row_5<- nrow(newnewdata[is.na(newnewdata$dose5),])\n",
    "na_row_5"
   ]
  },
  {
   "cell_type": "code",
   "execution_count": 7,
   "id": "d1a920ae-c0a6-4764-980b-1e39bc7eae3f",
   "metadata": {},
   "outputs": [
    {
     "data": {
      "text/html": [
       "<table class=\"dataframe\">\n",
       "<caption>A tibble: 61 × 8</caption>\n",
       "<thead>\n",
       "\t<tr><th scope=col>age</th><th scope=col>numtotal_atleast1dose</th><th scope=col>days</th><th scope=col>dose1</th><th scope=col>dose2</th><th scope=col>dose3</th><th scope=col>dose4</th><th scope=col>dose5</th></tr>\n",
       "\t<tr><th scope=col>&lt;chr&gt;</th><th scope=col>&lt;dbl&gt;</th><th scope=col>&lt;dbl&gt;</th><th scope=col>&lt;dbl&gt;</th><th scope=col>&lt;dbl&gt;</th><th scope=col>&lt;dbl&gt;</th><th scope=col>&lt;dbl&gt;</th><th scope=col>&lt;dbl&gt;</th></tr>\n",
       "</thead>\n",
       "<tbody>\n",
       "\t<tr><td>18–29</td><td>489425</td><td>119</td><td>404849</td><td> 84576</td><td>NA</td><td>NA</td><td>NA</td></tr>\n",
       "\t<tr><td>18–29</td><td>599663</td><td>126</td><td>509309</td><td> 90354</td><td>NA</td><td>NA</td><td>NA</td></tr>\n",
       "\t<tr><td>18–29</td><td>723344</td><td>133</td><td>623251</td><td>100093</td><td>NA</td><td>NA</td><td>NA</td></tr>\n",
       "\t<tr><td>⋮</td><td>⋮</td><td>⋮</td><td>⋮</td><td>⋮</td><td>⋮</td><td>⋮</td><td>⋮</td></tr>\n",
       "\t<tr><td>18–29</td><td>5213681</td><td>631</td><td>652740</td><td>4072118</td><td>2244971</td><td>119439</td><td>336267</td></tr>\n",
       "\t<tr><td>18–29</td><td>5213772</td><td>659</td><td>652175</td><td>4072599</td><td>2251677</td><td>180621</td><td>348665</td></tr>\n",
       "\t<tr><td>18–29</td><td>5210370</td><td>687</td><td>651777</td><td>4069789</td><td>2261159</td><td>298738</td><td>436666</td></tr>\n",
       "</tbody>\n",
       "</table>\n"
      ],
      "text/latex": [
       "A tibble: 61 × 8\n",
       "\\begin{tabular}{llllllll}\n",
       " age & numtotal\\_atleast1dose & days & dose1 & dose2 & dose3 & dose4 & dose5\\\\\n",
       " <chr> & <dbl> & <dbl> & <dbl> & <dbl> & <dbl> & <dbl> & <dbl>\\\\\n",
       "\\hline\n",
       "\t 18–29 & 489425 & 119 & 404849 &  84576 & NA & NA & NA\\\\\n",
       "\t 18–29 & 599663 & 126 & 509309 &  90354 & NA & NA & NA\\\\\n",
       "\t 18–29 & 723344 & 133 & 623251 & 100093 & NA & NA & NA\\\\\n",
       "\t ⋮ & ⋮ & ⋮ & ⋮ & ⋮ & ⋮ & ⋮ & ⋮\\\\\n",
       "\t 18–29 & 5213681 & 631 & 652740 & 4072118 & 2244971 & 119439 & 336267\\\\\n",
       "\t 18–29 & 5213772 & 659 & 652175 & 4072599 & 2251677 & 180621 & 348665\\\\\n",
       "\t 18–29 & 5210370 & 687 & 651777 & 4069789 & 2261159 & 298738 & 436666\\\\\n",
       "\\end{tabular}\n"
      ],
      "text/markdown": [
       "\n",
       "A tibble: 61 × 8\n",
       "\n",
       "| age &lt;chr&gt; | numtotal_atleast1dose &lt;dbl&gt; | days &lt;dbl&gt; | dose1 &lt;dbl&gt; | dose2 &lt;dbl&gt; | dose3 &lt;dbl&gt; | dose4 &lt;dbl&gt; | dose5 &lt;dbl&gt; |\n",
       "|---|---|---|---|---|---|---|---|\n",
       "| 18–29 | 489425 | 119 | 404849 |  84576 | NA | NA | NA |\n",
       "| 18–29 | 599663 | 126 | 509309 |  90354 | NA | NA | NA |\n",
       "| 18–29 | 723344 | 133 | 623251 | 100093 | NA | NA | NA |\n",
       "| ⋮ | ⋮ | ⋮ | ⋮ | ⋮ | ⋮ | ⋮ | ⋮ |\n",
       "| 18–29 | 5213681 | 631 | 652740 | 4072118 | 2244971 | 119439 | 336267 |\n",
       "| 18–29 | 5213772 | 659 | 652175 | 4072599 | 2251677 | 180621 | 348665 |\n",
       "| 18–29 | 5210370 | 687 | 651777 | 4069789 | 2261159 | 298738 | 436666 |\n",
       "\n"
      ],
      "text/plain": [
       "   age   numtotal_atleast1dose days dose1  dose2   dose3   dose4  dose5 \n",
       "1  18–29 489425                119  404849  84576  NA      NA     NA    \n",
       "2  18–29 599663                126  509309  90354  NA      NA     NA    \n",
       "3  18–29 723344                133  623251 100093  NA      NA     NA    \n",
       "⋮  ⋮     ⋮                     ⋮    ⋮      ⋮       ⋮       ⋮      ⋮     \n",
       "59 18–29 5213681               631  652740 4072118 2244971 119439 336267\n",
       "60 18–29 5213772               659  652175 4072599 2251677 180621 348665\n",
       "61 18–29 5210370               687  651777 4069789 2261159 298738 436666"
      ]
     },
     "metadata": {},
     "output_type": "display_data"
    }
   ],
   "source": [
    "newdata18<-newnewdata|>filter(age==\"18–29\")\n",
    "newdata18"
   ]
  },
  {
   "cell_type": "code",
   "execution_count": 8,
   "id": "fdded3cf-9da9-4932-96f7-cd9f962bca5d",
   "metadata": {},
   "outputs": [
    {
     "ename": "ERROR",
     "evalue": "Error in optim(rnorm(3), a_nonlinearmodel, method = \"L-BFGS-B\", x = newnewdata$days, : L-BFGS-B needs finite values of 'fn'\n",
     "output_type": "error",
     "traceback": [
      "Error in optim(rnorm(3), a_nonlinearmodel, method = \"L-BFGS-B\", x = newnewdata$days, : L-BFGS-B needs finite values of 'fn'\nTraceback:\n",
      "1. optim(rnorm(3), a_nonlinearmodel, method = \"L-BFGS-B\", x = newnewdata$days, \n .     y = newnewdata$dose3, lower = c(-Inf, -Inf, 1e-05), upper = c(Inf, \n .         Inf, Inf))"
     ]
    }
   ],
   "source": [
    "#a<- ggplot(newnewdata, aes(x=days,y=dose3))+\n",
    "#geom_point(aes(color=age))+\n",
    "#stat_smooth(method='lm',formula='dose3~days',se=FALSE)\n",
    "\n",
    "#dose3~1750000*days^0.27\n",
    "#newnewdata<-newnewdata|>filter(age=='All ages')\n",
    "fit<-lm(dose3~log(days),data=newnewdata)\n",
    "beta<-coef(fit)\n",
    "predict_y_nonlinearly<-function(beta, x) {\n",
    "beta[1]+beta[2]*exp(-beta[3]*x)}\n",
    "\n",
    "a_nonlinearmodel <- function(beta, x, y){\n",
    "    yhat<-predict_y_nonlinearly(beta, x)\n",
    "    sum((y-yhat)^2)}\n",
    "\n",
    "beta<- optim(rnorm(3), a_nonlinearmodel, method='L-BFGS-B', x=newnewdata$days, y=newnewdata$dose3,\n",
    "     lower=c(-Inf,-Inf,1e-5),\n",
    "     upper=c(Inf,Inf,Inf) )$par\n",
    "\n",
    "newnewdata$yhat<-predict_y_nonlinearly(beta,newnewdata$days)\n",
    "\n",
    "ggplot(data=newnewdata)+\n",
    "geom_point(aes(days,dose3))+\n",
    "geom_line(aes(days, yhat))"
   ]
  },
  {
   "cell_type": "code",
   "execution_count": 9,
   "id": "28cb87d7-3b23-4e63-846b-268e0a74b246",
   "metadata": {},
   "outputs": [
    {
     "name": "stderr",
     "output_type": "stream",
     "text": [
      "Warning message:\n",
      "“\u001b[1m\u001b[22mRemoved 564 rows containing missing values (`geom_point()`).”\n"
     ]
    },
    {
     "data": {
      "text/plain": [
       "Nonlinear regression model\n",
       "  model: dose3 ~ c * days^z\n",
       "   data: newnewdata\n",
       "       c        z \n",
       "2060.755    1.142 \n",
       " residual sum-of-squares: 5.961e+15\n",
       "\n",
       "Number of iterations to convergence: 45 \n",
       "Achieved convergence tolerance: 6.711e-06"
      ]
     },
     "metadata": {},
     "output_type": "display_data"
    },
    {
     "name": "stderr",
     "output_type": "stream",
     "text": [
      "Warning message:\n",
      "“\u001b[1m\u001b[22mRemoved 564 rows containing missing values (`geom_point()`).”\n"
     ]
    },
    {
     "data": {
      "image/png": "[encoded data removed]",
      "text/plain": [
       "plot without title"
      ]
     },
     "metadata": {
      "image/png": {
       "height": 420,
       "width": 420
      }
     },
     "output_type": "display_data"
    },
    {
     "data": {
      "image/png": "[encoded data removed]",
      "text/plain": [
       "plot without title"
      ]
     },
     "metadata": {
      "image/png": {
       "height": 420,
       "width": 420
      }
     },
     "output_type": "display_data"
    }
   ],
   "source": [
    "ggplot(newnewdata, aes(x=days,y=dose3))+\n",
    "geom_point(aes(color=age))\n",
    "\n",
    "sa1<- nls(dose3~c*days^z, data=newnewdata, start=c(c=1750000, z=0.27))\n",
    "sa1\n",
    "\n",
    "ggplot(newnewdata, aes(x=days,y=dose3))+\n",
    "geom_point(aes(color=age))\n",
    "\n",
    "#sa2<-lm(log(dose3)~log(days), data=newnewdata)\n",
    "#sa2"
   ]
  },
  {
   "cell_type": "markdown",
   "id": "7c87143b-14a7-44b0-91d1-8ba34cfe89b4",
   "metadata": {},
   "source": [
    "## dose 1"
   ]
  },
  {
   "cell_type": "code",
   "execution_count": null,
   "id": "5b0631da-37b4-4043-8cbe-fcdeef0df492",
   "metadata": {},
   "outputs": [],
   "source": [
    "options(repr.plot.width = 12, repr.plot.height = 7)\n",
    "\n",
    "x<-newnewdata$days\n",
    "y<-newnewdata$dose1\n",
    "plot(y~x)\n",
    "\n",
    "bbb <- nls(y ~ height/(1 + exp((xmid - x)/scal)),\n",
    "                           start = list(xmid = 80, scal = 10, height = 700000))\n",
    "#bbb\n",
    "aaa<- coef(bbb)\n",
    "earlyx<-c(0:100)\n",
    "ypred<-aaa[3]/(1 + exp((aaa[1] - earlyx)/aaa[2]))\n",
    "\n",
    "plot<- plot(ypred~earlyx)+\n",
    "lines(x,predict(bbb))\n",
    "plot"
   ]
  },
  {
   "cell_type": "code",
   "execution_count": null,
   "id": "5ef912ee-a303-41c9-8f90-fbb8c6b34127",
   "metadata": {},
   "outputs": [],
   "source": [
    "options(repr.plot.width = 12, repr.plot.height = 7)\n",
    "\n",
    "x<-newnewdata$days\n",
    "y<-newnewdata$dose1\n",
    "\n",
    "\n",
    "bbb <- nls(y ~ height/(1 + exp((xmid - x)/scal)),\n",
    "                           start = list(xmid = 80, scal = 10, height = 700000))\n",
    "#bbb\n",
    "aaa<- coef(bbb)\n",
    "earlyx<-c(0:100)\n",
    "ypred<-aaa[3]/(1 + exp((aaa[1] - earlyx)/aaa[2]))\n",
    "\n",
    "plot<- plot(ypred~earlyx)+\n",
    "plot(y~x)+\n",
    "lines(x,predict(bbb))\n",
    "plot"
   ]
  },
  {
   "cell_type": "markdown",
   "id": "59b1f54a-825d-47de-b459-5467a7a285cd",
   "metadata": {},
   "source": [
    "## dose 2"
   ]
  },
  {
   "cell_type": "code",
   "execution_count": null,
   "id": "f95d22ca-5f2d-4e01-a590-9b3b084ce9dc",
   "metadata": {},
   "outputs": [],
   "source": [
    "x<-newnewdata$days\n",
    "y<-newnewdata$dose2\n",
    "plot(y~x)\n",
    "\n",
    "options(repr.plot.width = 12, repr.plot.height = 7)\n",
    "bbb<-nls(y ~ height/(1 + exp((xmid - x)/scal)),\n",
    "                           start = list(xmid = 220, scal = 10, height = 5000000))\n",
    "#bbb\n",
    "aaa<- coef(bbb)\n",
    "earlyx<-c(0:350)\n",
    "ypred<-aaa[3]/(1 + exp((coef(bbb)[1] - earlyx)/coef(bbb)[2]))\n",
    "#ypred\n",
    "plot(ypred~earlyx)\n",
    "lines(x,predict(bbb))\n",
    "#predict(bbb)"
   ]
  },
  {
   "cell_type": "markdown",
   "id": "085c0380-2e04-404d-84b6-15c3f559c470",
   "metadata": {},
   "source": [
    "## dose 3"
   ]
  },
  {
   "cell_type": "code",
   "execution_count": null,
   "id": "e3e9f447-1566-4068-8fdb-a3866d3b2202",
   "metadata": {},
   "outputs": [],
   "source": [
    "newnewdata3<-newnewdata|>filter(!is.na(dose3))"
   ]
  },
  {
   "cell_type": "code",
   "execution_count": null,
   "id": "e747e819-12ae-4973-9690-9a117970405c",
   "metadata": {},
   "outputs": [],
   "source": [
    "ggplot(newnewdata3, aes(days,dose3))+\n",
    "geom_point(aes(color=age))"
   ]
  },
  {
   "cell_type": "code",
   "execution_count": null,
   "id": "c37be8c1-e007-43b5-9cc0-5aae8b0b3d08",
   "metadata": {},
   "outputs": [],
   "source": [
    "x<-newnewdata3$days\n",
    "y<-newnewdata3$dose3\n",
    "\n",
    "options(repr.plot.width = 12, repr.plot.height = 7)\n",
    "bbb<-nls(y ~ height/(1 + exp((xmid - x)/scal)),\n",
    "                           start = list(xmid = 400, scal = 10, height = 5000000))\n",
    "#bbb\n",
    "aaa<- coef(bbb)\n",
    "earlyx<-c(0:600)\n",
    "ypred<-aaa[3]/(1 + exp((coef(bbb)[1] - earlyx)/coef(bbb)[2]))\n",
    "#ypred\n",
    "plot(ypred~earlyx)\n",
    "lines(x,predict(bbb))"
   ]
  },
  {
   "cell_type": "markdown",
   "id": "fb198e46-3a4e-4bc3-88db-b9787e4c1f79",
   "metadata": {},
   "source": [
    "## dose 4"
   ]
  },
  {
   "cell_type": "code",
   "execution_count": null,
   "id": "3c846bf5-2f14-4821-82ba-aa7f8017b518",
   "metadata": {},
   "outputs": [],
   "source": [
    "newnewdata4<-newnewdata|>filter(!is.na(dose4))\n",
    "newnewdata4"
   ]
  },
  {
   "cell_type": "code",
   "execution_count": null,
   "id": "f366f6ec-0549-44fc-ad78-a9c9a7ee2294",
   "metadata": {},
   "outputs": [],
   "source": [
    "x<-newnewdata4$days\n",
    "y<-newnewdata4$dose4 \n",
    "\n",
    "\n",
    "options(repr.plot.width = 12, repr.plot.height = 7)\n",
    "bbb<-nls(y ~ height/(1 + exp((xmid - x)/scal)),\n",
    "                           start = list(xmid = 600, scal = 10, height = 5000000))\n",
    "#bbb\n",
    "aaa<- coef(bbb)\n",
    "earlyx<-c(0:900)\n",
    "ypred<-aaa[3]/(1 + exp((coef(bbb)[1] - earlyx)/coef(bbb)[2]))\n",
    "#ypred\n",
    "plot(ypred~earlyx)\n",
    "lines(x,predict(bbb))"
   ]
  },
  {
   "cell_type": "markdown",
   "id": "2d8786ab-082f-48db-a9da-6fbd8ffc8f14",
   "metadata": {},
   "source": [
    "## dose 5"
   ]
  },
  {
   "cell_type": "code",
   "execution_count": null,
   "id": "7afef689-5edc-4c7d-ae97-404de2248402",
   "metadata": {},
   "outputs": [],
   "source": [
    "newnewdata5<-newnewdata|>filter(!is.na(dose5))\n",
    "print(newnewdata5)\n",
    "ggplot(newnewdata5, aes(x=days,y=dose5))+\n",
    "geom_point(aes(color=age))"
   ]
  },
  {
   "cell_type": "code",
   "execution_count": null,
   "id": "1c0548f3-b8dd-491d-9413-1961f1ec8f70",
   "metadata": {},
   "outputs": [],
   "source": [
    "x<-newnewdata5$days\n",
    "y<-newnewdata5$dose5\n",
    "#plot(y~x)\n",
    "options(repr.plot.width = 12, repr.plot.height = 7)\n",
    "bbb<-nls(y ~ height/(1 + exp((xmid - x)/scal)), \n",
    "                           start = list(xmid = 650, scal = 10, height = 8000000))\n",
    "#bbb\n",
    "aaa<- coef(bbb)\n",
    "earlyx<-c(0:700)\n",
    "ypred<-aaa[3]/(1 + exp((coef(bbb)[1] - earlyx)/coef(bbb)[2]))\n",
    "#ypred\n",
    "plot(ypred~earlyx)\n",
    "lines(x,predict(bbb))"
   ]
  },
  {
   "cell_type": "markdown",
   "id": "60cdb716-d567-4429-953c-e2ae01f002f0",
   "metadata": {},
   "source": [
    "## finish"
   ]
  },
  {
   "cell_type": "code",
   "execution_count": null,
   "id": "d168217e-5d18-414f-bc11-051fbbbae80a",
   "metadata": {},
   "outputs": [],
   "source": [
    "x<-newnewdata$days\n",
    "y<-newnewdata$numtotal_atleast1dose\n",
    "\n",
    "options(repr.plot.width = 12, repr.plot.height = 7)\n",
    "bbb<-nls(y ~ height/(1 + exp((xmid - x)/scal)), \n",
    "                           start = list(xmid = 100, scal = 10, height = 5000000))\n",
    "#bbb\n",
    "aaa<- coef(bbb)\n",
    "earlyx<-c(-100:600)\n",
    "ypred<-aaa[3]/(1 + exp((coef(bbb)[1] - earlyx)/coef(bbb)[2]))\n",
    "#ypred\n",
    "plot(ypred~earlyx)\n",
    "lines(x,predict(bbb))"
   ]
  },
  {
   "cell_type": "code",
   "execution_count": null,
   "id": "f50ba016-b407-400a-822e-a17f073c28ab",
   "metadata": {},
   "outputs": [],
   "source": [
    "based on age \n",
    "be careful of tne data "
   ]
  },
  {
   "cell_type": "code",
   "execution_count": null,
   "id": "21489675-f5b3-484d-ac7f-2475fffaf331",
   "metadata": {},
   "outputs": [],
   "source": [
    "bbb <- newnewdata|> nls(numtotal_atleast1dose ~ days/(1 + exp((xmid - days)/scal)), \n",
    "                            start = list(xmid = 0, scal = 1, height = 100000))\n",
    "bbb\n"
   ]
  },
  {
   "cell_type": "code",
   "execution_count": null,
   "id": "e1cae056-f433-4a9e-ae0c-4ec0b0d3d5da",
   "metadata": {},
   "outputs": [],
   "source": [
    "nls(numtotal_atleast1dose ~ days, data=newnewdata)"
   ]
  },
  {
   "cell_type": "code",
   "execution_count": null,
   "id": "833cc6f6-5dc3-4327-9b82-3aab0a75c332",
   "metadata": {},
   "outputs": [],
   "source": [
    "options(repr.plot.width = 12, repr.plot.height = 7)\n",
    "ggplot(newnewdata, aes(x=days,y=numtotal_atleast1dose,color=age))+\n",
    "geom_point()+\n",
    "ggtitle(\"at least 1 dose\")\n",
    "ggplot(newnewdata, aes(x=days,y=dose1,color=age))+\n",
    "geom_point()+\n",
    "ggtitle(\"dose 1\")\n",
    "ggplot(newnewdata, aes(x=days,y=dose2,color=age))+\n",
    "geom_point()+\n",
    "ggtitle(\"dose 2\")\n",
    "ggplot(newnewdata, aes(x=days,y=dose3,color=age))+\n",
    "geom_point()+\n",
    "ggtitle(\"dose 3\")\n",
    "ggplot(newnewdata, aes(x=days,y=dose4,color=age))+\n",
    "geom_point()+\n",
    "ggtitle(\"dose 4\")\n",
    "ggplot(newnewdata, aes(x=days,y=dose5,color=age))+\n",
    "geom_point()+\n",
    "ggtitle(\"dose 5\")\n",
    "\n",
    "#glm\n",
    "#nls "
   ]
  },
  {
   "cell_type": "code",
   "execution_count": null,
   "id": "879263e7-33b4-44ce-899f-dbb89221b377",
   "metadata": {},
   "outputs": [],
   "source": [
    "nls(formula, data, start, control, algorithm,\n",
    "    trace, subset, weights, na.action, model,\n",
    "    lower, upper, ...)\n",
    "newnewdata"
   ]
  },
  {
   "cell_type": "code",
   "execution_count": null,
   "id": "550d70c2-3cac-40e7-a8cc-f65bb2a5434b",
   "metadata": {},
   "outputs": [],
   "source": [
    "#?nls\n",
    "#pivot longer to make it tibble \n",
    "#newnewdata\n",
    "#?glm"
   ]
  },
  {
   "cell_type": "code",
   "execution_count": null,
   "id": "0b25408b-e81b-4faa-8ffa-7402816673d6",
   "metadata": {},
   "outputs": [],
   "source": [
    "x<-newnewdata$days\n",
    "y<-newnewdata$numtotal_atleast1dose\n",
    "\n",
    "bbb<-nls(y ~ height/(1 + exp((xmid - x)/scal)), \n",
    "                           start = list(xmid = 100, scal = 10, height = 5000000))\n",
    "bbb"
   ]
  },
  {
   "cell_type": "code",
   "execution_count": null,
   "id": "c6617a43-0c9e-4061-86d1-3472843b27bc",
   "metadata": {},
   "outputs": [],
   "source": [
    "coef(bbb)\n",
    "earlyx<-c(0:100)\n",
    "ypred<-coef(bbb)[3]/(1 + exp((coef(bbb)[1] - earlyx)/coef(bbb)[2]))\n",
    "ypred\n",
    "plot(ypred~earlyx)\n",
    "lines(x,predict(bbb))"
   ]
  },
  {
   "cell_type": "code",
   "execution_count": null,
   "id": "e02222d0-59f0-4823-9bb7-8c4abdebb1e5",
   "metadata": {},
   "outputs": [],
   "source": [
    "options(repr.plot.width = 20, repr.plot.height = 10)\n",
    "\n",
    "firstage3<-newnewdata|>\n",
    "#    mutate(age=as.factor(age))|>\n",
    "    filter(age==\"0–15\")\n",
    "\n",
    "graph3 <- ggplot(firstage3, aes(x=days, y=numtotal_atleast1dose))+\n",
    "    geom_point(alpha=0.6)+\n",
    "geom_line()+\n",
    "    xlab(\"Date\") +\n",
    "    ylab(\"Number of New Vaccinations\") +\n",
    "    theme(text = element_text(size = 12))        \n",
    "\n",
    "graph3"
   ]
  },
  {
   "cell_type": "code",
   "execution_count": null,
   "id": "7a128527-87b5-413f-b802-511da5c75f5f",
   "metadata": {},
   "outputs": [],
   "source": [
    "firstage4<-newnewdata|>\n",
    "#    mutate(age=as.factor(age))|>\n",
    "    filter(age==\"16–69\")\n",
    "\n",
    "graph4 <- ggplot(firstage4, aes(x=days, y=numtotal_atleast1dose))+\n",
    "    geom_point(alpha=0.6)+\n",
    "geom_line()+\n",
    "    xlab(\"Date\") +\n",
    "    ylab(\"Number of New Vaccinations\") +\n",
    "    theme(text = element_text(size = 12))        \n",
    "\n",
    "graph4"
   ]
  },
  {
   "cell_type": "code",
   "execution_count": null,
   "id": "c3fb5b4f-025a-447f-9e75-10d252f60035",
   "metadata": {},
   "outputs": [],
   "source": [
    "options(repr.plot.width = 10, repr.plot.height = 37)\n",
    "\n",
    "#selected.1<- selected|>\n",
    "# filter(age %in% c(\"0-4\", \"05-11\", \"12-17\", \"18-29\", '30-39', '40-49', '50.59','60-69','70-79','80+'))\n",
    "\n",
    "#selected.1<- selected|>\n",
    "# filter(age %in% c(\"0-15\", '0-17', '16-69', '18-69','70-74','75-79','80+'))\n",
    "\n",
    "#selected.1\n",
    "\n",
    "graph1.1 <- ggplot(newnewdata, aes(x=days, y=numtotal_atleast1dose, color=age))+\n",
    "    geom_point(alpha=0.6)+\n",
    "    geom_line()+\n",
    "    facet_grid(rows = vars(age))+\n",
    "    xlab(\"Date\") +\n",
    "    ylab(\"Number of New Vaccinations\") +\n",
    "    labs(color=\"Age Cathegory\")+\n",
    "    theme(text = element_text(size = 12))        \n",
    "\n",
    "graph1.1"
   ]
  },
  {
   "cell_type": "code",
   "execution_count": null,
   "id": "e6285097-f39f-416b-93cf-29fb2e662825",
   "metadata": {},
   "outputs": [],
   "source": []
  }
 ],
 "metadata": {
  "kernelspec": {
   "display_name": "R",
   "language": "R",
   "name": "ir"
  },
  "language_info": {
   "codemirror_mode": "r",
   "file_extension": ".r",
   "mimetype": "text/x-r-source",
   "name": "R",
   "pygments_lexer": "r",
   "version": "4.2.2"
  }
 },
 "nbformat": 4,
 "nbformat_minor": 5
}
